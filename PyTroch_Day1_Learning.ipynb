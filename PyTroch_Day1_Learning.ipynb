{
  "nbformat": 4,
  "nbformat_minor": 0,
  "metadata": {
    "colab": {
      "provenance": [],
      "authorship_tag": "ABX9TyONHUQm3j3e+3Z4zRx+mSVg",
      "include_colab_link": true
    },
    "kernelspec": {
      "name": "python3",
      "display_name": "Python 3"
    },
    "language_info": {
      "name": "python"
    }
  },
  "cells": [
    {
      "cell_type": "markdown",
      "metadata": {
        "id": "view-in-github",
        "colab_type": "text"
      },
      "source": [
        "<a href=\"https://colab.research.google.com/github/Vivekkotha544/The-PyTorch/blob/main/PyTroch_Day1_Learning.ipynb\" target=\"_parent\"><img src=\"https://colab.research.google.com/assets/colab-badge.svg\" alt=\"Open In Colab\"/></a>"
      ]
    },
    {
      "cell_type": "code",
      "execution_count": null,
      "metadata": {
        "id": "_2b20fKeeotU"
      },
      "outputs": [],
      "source": [
        "## Machine Learning is turning things(data) into numbers and finding patterns in those numbers.\n",
        "# AI-->ML-->DL"
      ]
    },
    {
      "cell_type": "code",
      "source": [
        "#Traditional Programming\n",
        "# Inputs-> Rules-> Output"
      ],
      "metadata": {
        "id": "QumxOMeKf4Mh"
      },
      "execution_count": null,
      "outputs": []
    },
    {
      "cell_type": "code",
      "source": [
        "#Machine Learning Algorithm\n",
        "# Inputs-> Output-> Rules\n",
        "# Machine Learning Algorithm Job is to figure out the relationship between the inputs or the features and the outputs or the label"
      ],
      "metadata": {
        "id": "P_dlWpTBgSom"
      },
      "execution_count": null,
      "outputs": []
    },
    {
      "cell_type": "code",
      "source": [
        "# \"If you can bulid a simple rule-based system that doesn't require machine learning,do that\""
      ],
      "metadata": {
        "id": "okEFW_Jwgmmx"
      },
      "execution_count": 5,
      "outputs": []
    },
    {
      "cell_type": "code",
      "source": [
        "## When should we use DL and ML(Good for)?\n",
        "#Problems with long lists of rules\n",
        "#Continually changing environments\n",
        "#Discovering insights within large collection of data"
      ],
      "metadata": {
        "id": "6lv2ONRciQET"
      },
      "execution_count": 6,
      "outputs": []
    },
    {
      "cell_type": "code",
      "source": [
        "## When we shouldn't use DL and ML (Not Good for)?\n",
        "#When the traditional approach is a better option\n",
        "#When errors are unacceptable\n",
        "#When you don't have much data"
      ],
      "metadata": {
        "id": "JSK98G6dkIOZ"
      },
      "execution_count": 7,
      "outputs": []
    },
    {
      "cell_type": "code",
      "source": [
        "#Research question that what is DL Actually used for?\n",
        "# After a primaring research I understood that It is used for Image Recognition,Computer vision,Recommendation system etc"
      ],
      "metadata": {
        "id": "MzZZvQsPkw3s"
      },
      "execution_count": 1,
      "outputs": []
    },
    {
      "cell_type": "code",
      "source": [
        "#What is PyTorch?"
      ],
      "metadata": {
        "id": "groLAglTCKyI"
      },
      "execution_count": 2,
      "outputs": []
    },
    {
      "cell_type": "code",
      "source": [
        "#It helps to write fast deep learning code in Python\n",
        "#Able to access many pre-built deep learning models\n",
        "#Very Interesting History"
      ],
      "metadata": {
        "id": "2zFGo9bgDp2Y"
      },
      "execution_count": 3,
      "outputs": []
    },
    {
      "cell_type": "code",
      "source": [
        "#On Day 1 I have Learned Introduction to the PyTroch,DL and ML."
      ],
      "metadata": {
        "id": "pH0FF_ThFArA"
      },
      "execution_count": null,
      "outputs": []
    }
  ]
}